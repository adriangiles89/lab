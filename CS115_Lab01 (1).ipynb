{
  "nbformat": 4,
  "nbformat_minor": 5,
  "metadata": {
    "colab": {
      "provenance": []
    },
    "kernelspec": {
      "name": "python3",
      "language": "python",
      "display_name": "Python 3"
    },
    "language_info": {
      "name": "python",
      "version": "3"
    }
  },
  "cells": [
    {
      "cell_type": "markdown",
      "metadata": {
        "id": "rScMqtmBK2aL"
      },
      "source": [
        "# CS 115 — Lab 01: Welcome to Programming with Colab\n",
        "Sonoma State University • Computer Science • Fall 2025  \n",
        "**Sections:** 001 / 002 / 003  \n",
        "**Instructor:** Andrew Bond (andrew.bond@sonoma.edu)\n",
        "\n",
        "This lab happens **before our first class session**. You don’t need any programming background! Today we’ll just:\n",
        "- Learn how to open and run a Colab notebook\n",
        "- Write your first Python commands\n",
        "- Add a short Markdown reflection\n",
        "\n",
        "**What to turn in:** Upload your completed notebook to Canvas at the end.\n"
      ],
      "id": "rScMqtmBK2aL"
    },
    {
      "cell_type": "markdown",
      "metadata": {
        "id": "Fcd1oUVSK2aN"
      },
      "source": [
        "## Warm-up (1 pt)\n",
        "Run the cell below. It should print today’s date and your Python version."
      ],
      "id": "Fcd1oUVSK2aN"
    },
    {
      "cell_type": "code",
      "metadata": {
        "id": "warmup",
        "colab": {
          "base_uri": "https://localhost:8080/"
        },
        "outputId": "3b201457-398d-4263-c673-e6ac87cadf69"
      },
      "execution_count": 1,
      "outputs": [
        {
          "output_type": "stream",
          "name": "stdout",
          "text": [
            "Python: 3.12.11\n",
            "Today: 2025-08-19\n"
          ]
        }
      ],
      "source": [
        "import sys, datetime\n",
        "print(\"Python:\", sys.version.split()[0])\n",
        "print(\"Today:\", datetime.date.today().isoformat())"
      ],
      "id": "warmup"
    },
    {
      "cell_type": "markdown",
      "metadata": {
        "id": "QOSH0KFMK2aP"
      },
      "source": [
        "## Q1: Print your name (1 pt)\n",
        "Use the `print()` function to say hello with your name.\n",
        "\n",
        "**Example**:\n",
        "```python\n",
        "print(\"Hello, my name is Ada\")\n",
        "```"
      ],
      "id": "QOSH0KFMK2aP"
    },
    {
      "cell_type": "code",
      "metadata": {
        "id": "q1",
        "colab": {
          "base_uri": "https://localhost:8080/"
        },
        "outputId": "0b004c33-ad38-4491-b3c2-82464a8e9d94"
      },
      "execution_count": 2,
      "outputs": [
        {
          "output_type": "stream",
          "name": "stdout",
          "text": [
            "Hello, my name is Adrian\n"
          ]
        }
      ],
      "source": [
        "# TODO: Change this to your own name\n",
        "print(\"Hello, my name is Adrian\")"
      ],
      "id": "q1"
    },
    {
      "cell_type": "markdown",
      "metadata": {
        "id": "1joPeXf1K2aP"
      },
      "source": [
        "## Q2: Print some math (1 pt)\n",
        "Try using Python as a calculator. Print the answers to a few math problems.\n",
        "\n",
        "**Examples**:\n",
        "```python\n",
        "print(2 + 3)\n",
        "print(10 - 4)\n",
        "print(7 * 6)\n",
        "```"
      ],
      "id": "1joPeXf1K2aP"
    },
    {
      "cell_type": "code",
      "metadata": {
        "id": "q2",
        "colab": {
          "base_uri": "https://localhost:8080/"
        },
        "outputId": "09890ef4-20a4-49c9-a909-5c21a970b566"
      },
      "execution_count": 4,
      "outputs": [
        {
          "output_type": "stream",
          "name": "stdout",
          "text": [
            "125\n",
            "-198\n",
            "25\n"
          ]
        }
      ],
      "source": [
        "# TODO: Add your own math expressions\n",
        "print(5 ** 3)\n",
        "print(123 - 321)\n",
        "print(5 * 5)"
      ],
      "id": "q2"
    },
    {
      "cell_type": "markdown",
      "metadata": {
        "id": "M9xUYcJTK2aP"
      },
      "source": [
        "## Q3: Add some Markdown text (1 pt)\n",
        "Add a **Text cell** (instead of Code). Type something like:\n",
        "\n",
        "- This is my first lab in CS115!\n",
        "- I’m excited to learn Python.\n",
        "\n",
        "Try bold (**word**), italics (*word*), or a list.\n"
      ],
      "id": "M9xUYcJTK2aP"
    },
    {
      "cell_type": "markdown",
      "source": [
        "This is my **first** ever lab in CS115 in the *Darwin Hall*  :)\n",
        "\n",
        "I am **very** excited to learn about Python\n",
        "\n",
        "Some stuff I've learned in the past:\n",
        "\n",
        "\n",
        "*   A bit of HTML, CSS, JS\n",
        "*   Created websites for projects\n",
        "*   Scikit-learn\n",
        "\n",
        "\n",
        "\n"
      ],
      "metadata": {
        "id": "11WUsAkCLjIx"
      },
      "id": "11WUsAkCLjIx"
    },
    {
      "cell_type": "markdown",
      "metadata": {
        "id": "xB5nzw0ZK2aQ"
      },
      "source": [
        "## Q4: Reflection (1 pt)\n",
        "Answer in a Text/Markdown cell:\n",
        "1. One thing I learned today:\n",
        "2. One question I still have:\n",
        "3. (If applicable) **AI usage note**: Did you use any AI tool? If so, what did you ask and how did you use the answer?\n"
      ],
      "id": "xB5nzw0ZK2aQ"
    },
    {
      "cell_type": "markdown",
      "source": [
        "1. One thing I've learned today is that Colab and Github have a wide use in programming\n",
        "2. One question I still have is what kind of things will we learn in each unit? Will we have a unit on machine learning?\n",
        "3. I did not use an AI tool."
      ],
      "metadata": {
        "id": "6l_L6kasMeo1"
      },
      "id": "6l_L6kasMeo1"
    },
    {
      "cell_type": "markdown",
      "metadata": {
        "id": "Nzd7oazkK2aQ"
      },
      "source": [
        "## Stretch (optional, ungraded)\n",
        "Edit this program to say something fun about you.\n"
      ],
      "id": "Nzd7oazkK2aQ"
    },
    {
      "cell_type": "code",
      "metadata": {
        "id": "stretch",
        "colab": {
          "base_uri": "https://localhost:8080/"
        },
        "outputId": "d0217eed-7afa-4084-a63d-ae81c5357627"
      },
      "execution_count": 6,
      "outputs": [
        {
          "output_type": "stream",
          "name": "stdout",
          "text": [
            "Hello, I am Adrian Giles and I like my car and computers a lot!\n",
            "I also like to listen to music, and watch movies or shows in my free time.\n"
          ]
        }
      ],
      "source": [
        "print(\"Hello, I am Adrian Giles and I like my car and computers a lot!\")\n",
        "print(\"I also like to listen to music, and watch movies or shows in my free time.\")"
      ],
      "id": "stretch"
    },
    {
      "cell_type": "markdown",
      "metadata": {
        "id": "gDS_0wXBK2aQ"
      },
      "source": [
        "_Last updated: August 19, 2025_"
      ],
      "id": "gDS_0wXBK2aQ"
    }
  ]
}